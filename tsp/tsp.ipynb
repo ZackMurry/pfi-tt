{
 "cells": [
  {
   "cell_type": "markdown",
   "metadata": {},
   "source": [
    "Dynamic Traveling Salesman Problem (DTSP) with RL"
   ]
  },
  {
   "cell_type": "code",
   "execution_count": null,
   "metadata": {},
   "outputs": [],
   "source": [
    "\n",
    "\n",
    "import or_gym\n",
    "from or_gym.utils import create_env\n",
    "import numpy as np\n",
    "print(np.version)\n",
    "import matplotlib.pyplot as plt\n",
    "from matplotlib import gridspec\n",
    "\n",
    "\n",
    "#print(np.version.version)\n",
    "\n",
    "env_config = {}\n",
    "\n",
    "# Environment and RL Configuration Settings\n",
    "env_name = 'TSP-v0'\n",
    "# env_name = \"Knapsack-v0\"\n",
    "env_config = {} # Change environment parameters here\n",
    " \n",
    "# Register environment\n",
    "env = create_env(env_name)\n",
    "\n",
    "\n",
    "\n"
   ]
  },
  {
   "cell_type": "markdown",
   "metadata": {},
   "source": []
  }
 ],
 "metadata": {
  "language_info": {
   "name": "python"
  }
 },
 "nbformat": 4,
 "nbformat_minor": 2
}
